{
  "nbformat": 4,
  "nbformat_minor": 0,
  "metadata": {
    "colab": {
      "name": "Untitled0.ipynb",
      "provenance": [],
      "authorship_tag": "ABX9TyP7F97oR+DBEggrY2gY0tfQ",
      "include_colab_link": true
    },
    "kernelspec": {
      "name": "python3",
      "display_name": "Python 3"
    }
  },
  "cells": [
    {
      "cell_type": "markdown",
      "metadata": {
        "id": "view-in-github",
        "colab_type": "text"
      },
      "source": [
        "<a href=\"https://colab.research.google.com/github/yeonirung/yeon/blob/master/Untitled0.ipynb\" target=\"_parent\"><img src=\"https://colab.research.google.com/assets/colab-badge.svg\" alt=\"Open In Colab\"/></a>"
      ]
    },
    {
      "cell_type": "markdown",
      "metadata": {
        "id": "oXjNqmjxcF1h",
        "colab_type": "text"
      },
      "source": [
        ""
      ]
    },
    {
      "cell_type": "markdown",
      "metadata": {
        "id": "qZxb_2DVcd7O",
        "colab_type": "text"
      },
      "source": [
        "파이선 연습"
      ]
    },
    {
      "cell_type": "markdown",
      "metadata": {
        "id": "bb-3WseBKn7x",
        "colab_type": "text"
      },
      "source": [
        "인공지능 사관학교 프리코스 과제 목차\n",
        "========\n",
        "1주차 과제(2020.05.21)\n",
        "-----------------------\n",
        "\n",
        "># 인공지능의 언어 파이썬 현재 우리가 배울려고 하는 목표\n",
        "> >## 인공지능  음성 아이폰 SIRI는 흔하니 유튜브에도 적용한 음성 시스템\n",
        "> > >### 인공지능 이미지 OpenCV\n",
        " [Opencv][id]\n",
        "\n",
        " [id]: URL \"Opencv\"\n",
        "\n",
        "__// code\n",
        "Link: [Opencv][googlelink]__\n",
        "\n",
        "[googlelink]: https://d2.naver.com/helloworld/8344782 \"Go google\"\n",
        "> > > > #### 포르쉐가 꿈꾸는 커넥티드 카의 핵심 '실시간 DATA' -Porsche와 Kinetica의 자율 주행  _[Porsche](https://www.udna.kr/post/%ED%8F%AC%EB%A5%B4%EC%89%90%EA%B0%80-%EA%BF%88%EA%BE%B8%EB%8A%94-%EC%BB%A4%EB%84%A5%ED%8B%B0%EB%93%9C-%EC%B9%B4%EC%9D%98-%ED%95%B5%EC%8B%AC-%EC%8B%A4%EC%8B%9C%EA%B0%84-data-porsche%EC%99%80-kinetica%EC%9D%98-%EC%9E%90%EC%9C%A8-%EC%A3%BC%ED%96%89-%EC%8B%9C%EB%8C%80-%EB%AC%B4%ED%95%9C-%EC%A7%88%EC%A3%BC%EB%A5%BC-%EC%9C%84%ED%95%9C-%ED%98%91%EC%97%85, \"google link\")_\n",
        "<이미지>\n",
        "![ 이미지 설명 ](https://www.motorgraph.com/news/photo/201904/22184_71993_585.jpg)\n",
        "<img src=\"https://www.motorgraph.com/news/photo/201904/22184_71993_585.jpg\" width=\"80%\" height=\"70%\" title=\"px(픽셀) 크기 설정\" alt=\"Porsche\"></img>\n",
        "\n",
        "\n"
      ]
    }
  ]
}